{
 "cells": [
  {
   "cell_type": "code",
   "execution_count": 1,
   "metadata": {},
   "outputs": [],
   "source": [
    "%matplotlib inline\n",
    "from matplotlib import style\n",
    "style.use('fivethirtyeight')\n",
    "import matplotlib.pyplot as plt"
   ]
  },
  {
   "cell_type": "code",
   "execution_count": 2,
   "metadata": {},
   "outputs": [],
   "source": [
    "import numpy as np\n",
    "import pandas as pd\n",
    "from scipy import stats"
   ]
  },
  {
   "cell_type": "code",
   "execution_count": 3,
   "metadata": {},
   "outputs": [],
   "source": [
    "import datetime as dt"
   ]
  },
  {
   "cell_type": "markdown",
   "metadata": {},
   "source": [
    "# Reflect Tables into SQLAlchemy ORM"
   ]
  },
  {
   "cell_type": "code",
   "execution_count": 4,
   "metadata": {},
   "outputs": [],
   "source": [
    "# Python SQL toolkit and Object Relational Mapper\n",
    "import sqlalchemy\n",
    "from sqlalchemy.ext.automap import automap_base\n",
    "from sqlalchemy.orm import Session\n",
    "from sqlalchemy import create_engine, func, inspect"
   ]
  },
  {
   "cell_type": "code",
   "execution_count": 5,
   "metadata": {},
   "outputs": [],
   "source": [
    "engine = create_engine(\"sqlite:///Resources/hawaii.sqlite\")"
   ]
  },
  {
   "cell_type": "code",
   "execution_count": 6,
   "metadata": {},
   "outputs": [],
   "source": [
    "# reflect an existing database into a new model\n",
    "Base = automap_base()\n",
    "# reflect the tables\n",
    "Base.prepare(engine, reflect=True)"
   ]
  },
  {
   "cell_type": "code",
   "execution_count": 7,
   "metadata": {},
   "outputs": [
    {
     "data": {
      "text/plain": [
       "['measurement', 'station']"
      ]
     },
     "execution_count": 7,
     "metadata": {},
     "output_type": "execute_result"
    }
   ],
   "source": [
    "# We can view all of the classes that automap found\n",
    "Base.classes.keys()"
   ]
  },
  {
   "cell_type": "code",
   "execution_count": 8,
   "metadata": {},
   "outputs": [],
   "source": [
    "# Save references to each table\n",
    "Measurement = Base.classes.measurement\n",
    "Station = Base.classes.station"
   ]
  },
  {
   "cell_type": "code",
   "execution_count": 9,
   "metadata": {},
   "outputs": [],
   "source": [
    "# Create our session (link) from Python to the DB\n",
    "session = Session(engine)"
   ]
  },
  {
   "cell_type": "markdown",
   "metadata": {},
   "source": [
    "# Exploratory Climate Analysis"
   ]
  },
  {
   "cell_type": "code",
   "execution_count": 10,
   "metadata": {},
   "outputs": [
    {
     "name": "stdout",
     "output_type": "stream",
     "text": [
      "Measurement\n",
      "id INTEGER\n",
      "station TEXT\n",
      "date TEXT\n",
      "prcp FLOAT\n",
      "tobs FLOAT\n",
      "\n",
      "Stations\n",
      "id INTEGER\n",
      "station TEXT\n",
      "name TEXT\n",
      "latitude FLOAT\n",
      "longitude FLOAT\n",
      "elevation FLOAT\n"
     ]
    }
   ],
   "source": [
    "# What columns exist on each table?\n",
    "inspector = inspect(engine)\n",
    "\n",
    "meas_columns = inspector.get_columns('measurement')\n",
    "print(\"Measurement\")\n",
    "for c in meas_columns:\n",
    "    print(c['name'], c[\"type\"])\n",
    "    \n",
    "station_columns = inspector.get_columns('station')\n",
    "print(\"\\nStations\")\n",
    "for c in station_columns:\n",
    "    print(c['name'], c[\"type\"])"
   ]
  },
  {
   "cell_type": "markdown",
   "metadata": {},
   "source": [
    "## Design a query to retrieve the last 12 months of precipitation data and plot the results:"
   ]
  },
  {
   "cell_type": "code",
   "execution_count": 11,
   "metadata": {},
   "outputs": [
    {
     "name": "stdout",
     "output_type": "stream",
     "text": [
      "Last date is: 2017-08-23\n",
      "Date from one year ago is: 2016-08-23\n"
     ]
    }
   ],
   "source": [
    "## Calculate the date 1 year ago from the last data point in the database:\n",
    "\n",
    "# get last date contained in the dataset for reference\n",
    "last_date = session.query(Measurement.date).\\\n",
    "            order_by(Measurement.date.desc()).first()\n",
    "print(f\"Last date is: {last_date[0]}\")\n",
    "\n",
    "# 2017 not a leap year so we can simply subtract 365 days (and keep just for date for cleanliness)\n",
    "last_year_date = (dt.datetime.strptime(last_date[0],'%Y-%m-%d') - dt.timedelta(days=365)).strftime('%Y-%m-%d')\n",
    "print(f\"Date from one year ago is: {last_year_date}\")"
   ]
  },
  {
   "cell_type": "code",
   "execution_count": 12,
   "metadata": {},
   "outputs": [
    {
     "data": {
      "text/plain": [
       "[('2016-08-23', 0.0),\n",
       " ('2016-08-24', 0.08),\n",
       " ('2016-08-25', 0.08),\n",
       " ('2016-08-26', 0.0),\n",
       " ('2016-08-27', 0.0)]"
      ]
     },
     "execution_count": 12,
     "metadata": {},
     "output_type": "execute_result"
    }
   ],
   "source": [
    "# Perform a query to retrieve the data and precipitation scores\n",
    "measurement_cols = (Measurement.date, Measurement.prcp)\n",
    "\n",
    "prcp_data = session.query(*measurement_cols).\\\n",
    "            filter(Measurement.date >= last_year_date).all()\n",
    "prcp_data[:5]"
   ]
  },
  {
   "cell_type": "code",
   "execution_count": 13,
   "metadata": {},
   "outputs": [
    {
     "data": {
      "text/html": [
       "<div>\n",
       "<style scoped>\n",
       "    .dataframe tbody tr th:only-of-type {\n",
       "        vertical-align: middle;\n",
       "    }\n",
       "\n",
       "    .dataframe tbody tr th {\n",
       "        vertical-align: top;\n",
       "    }\n",
       "\n",
       "    .dataframe thead th {\n",
       "        text-align: right;\n",
       "    }\n",
       "</style>\n",
       "<table border=\"1\" class=\"dataframe\">\n",
       "  <thead>\n",
       "    <tr style=\"text-align: right;\">\n",
       "      <th></th>\n",
       "      <th>date</th>\n",
       "      <th>precipitation</th>\n",
       "    </tr>\n",
       "  </thead>\n",
       "  <tbody>\n",
       "    <tr>\n",
       "      <th>0</th>\n",
       "      <td>2016-08-23</td>\n",
       "      <td>0.00</td>\n",
       "    </tr>\n",
       "    <tr>\n",
       "      <th>1</th>\n",
       "      <td>2016-08-24</td>\n",
       "      <td>0.08</td>\n",
       "    </tr>\n",
       "    <tr>\n",
       "      <th>2</th>\n",
       "      <td>2016-08-25</td>\n",
       "      <td>0.08</td>\n",
       "    </tr>\n",
       "    <tr>\n",
       "      <th>3</th>\n",
       "      <td>2016-08-26</td>\n",
       "      <td>0.00</td>\n",
       "    </tr>\n",
       "    <tr>\n",
       "      <th>4</th>\n",
       "      <td>2016-08-27</td>\n",
       "      <td>0.00</td>\n",
       "    </tr>\n",
       "  </tbody>\n",
       "</table>\n",
       "</div>"
      ],
      "text/plain": [
       "         date  precipitation\n",
       "0  2016-08-23           0.00\n",
       "1  2016-08-24           0.08\n",
       "2  2016-08-25           0.08\n",
       "3  2016-08-26           0.00\n",
       "4  2016-08-27           0.00"
      ]
     },
     "execution_count": 13,
     "metadata": {},
     "output_type": "execute_result"
    }
   ],
   "source": [
    "# Save the query results as a Pandas DataFrame\n",
    "prcp_df = pd.DataFrame(prcp_data,columns=['date','precipitation'])\n",
    "prcp_df.head()"
   ]
  },
  {
   "cell_type": "code",
   "execution_count": 14,
   "metadata": {},
   "outputs": [],
   "source": [
    "# Set the index to the date column and sort the dataframe by date\n",
    "prcp_df.set_index('date',inplace=True)\n",
    "prcp_df = prcp_df.sort_index()"
   ]
  },
  {
   "cell_type": "code",
   "execution_count": 15,
   "metadata": {},
   "outputs": [
    {
     "data": {
      "image/png": "[encoded data removed]",
      "text/plain": [
       "<Figure size 432x288 with 1 Axes>"
      ]
     },
     "metadata": {
      "needs_background": "light"
     },
     "output_type": "display_data"
    }
   ],
   "source": [
    "# Use Pandas Plotting with Matplotlib to plot the data\n",
    "ax = prcp_df.plot(rot=90);\n",
    "ax.set_title(\"Precipitation Levels Per Day Over the Past Year\");\n",
    "ax.set_ylabel(\"Precipitation Level\");"
   ]
  },
  {
   "cell_type": "code",
   "execution_count": 16,
   "metadata": {},
   "outputs": [
    {
     "data": {
      "text/html": [
       "<div>\n",
       "<style scoped>\n",
       "    .dataframe tbody tr th:only-of-type {\n",
       "        vertical-align: middle;\n",
       "    }\n",
       "\n",
       "    .dataframe tbody tr th {\n",
       "        vertical-align: top;\n",
       "    }\n",
       "\n",
       "    .dataframe thead th {\n",
       "        text-align: right;\n",
       "    }\n",
       "</style>\n",
       "<table border=\"1\" class=\"dataframe\">\n",
       "  <thead>\n",
       "    <tr style=\"text-align: right;\">\n",
       "      <th></th>\n",
       "      <th>precipitation</th>\n",
       "    </tr>\n",
       "  </thead>\n",
       "  <tbody>\n",
       "    <tr>\n",
       "      <th>count</th>\n",
       "      <td>2021.000000</td>\n",
       "    </tr>\n",
       "    <tr>\n",
       "      <th>mean</th>\n",
       "      <td>0.177279</td>\n",
       "    </tr>\n",
       "    <tr>\n",
       "      <th>std</th>\n",
       "      <td>0.461190</td>\n",
       "    </tr>\n",
       "    <tr>\n",
       "      <th>min</th>\n",
       "      <td>0.000000</td>\n",
       "    </tr>\n",
       "    <tr>\n",
       "      <th>25%</th>\n",
       "      <td>0.000000</td>\n",
       "    </tr>\n",
       "    <tr>\n",
       "      <th>50%</th>\n",
       "      <td>0.020000</td>\n",
       "    </tr>\n",
       "    <tr>\n",
       "      <th>75%</th>\n",
       "      <td>0.130000</td>\n",
       "    </tr>\n",
       "    <tr>\n",
       "      <th>max</th>\n",
       "      <td>6.700000</td>\n",
       "    </tr>\n",
       "  </tbody>\n",
       "</table>\n",
       "</div>"
      ],
      "text/plain": [
       "       precipitation\n",
       "count    2021.000000\n",
       "mean        0.177279\n",
       "std         0.461190\n",
       "min         0.000000\n",
       "25%         0.000000\n",
       "50%         0.020000\n",
       "75%         0.130000\n",
       "max         6.700000"
      ]
     },
     "execution_count": 16,
     "metadata": {},
     "output_type": "execute_result"
    }
   ],
   "source": [
    "# Use Pandas to calculate the summary statistics for the precipitation data\n",
    "prcp_df.describe()"
   ]
  },
  {
   "cell_type": "markdown",
   "metadata": {},
   "source": [
    "## Design query to return temperature observation data (tobs) from active stations and plot the results:"
   ]
  },
  {
   "cell_type": "code",
   "execution_count": 17,
   "metadata": {},
   "outputs": [
    {
     "data": {
      "text/plain": [
       "[(9)]"
      ]
     },
     "execution_count": 17,
     "metadata": {},
     "output_type": "execute_result"
    }
   ],
   "source": [
    "# Design a query to show how many stations are available in this dataset?\n",
    "station_count = session.query(func.count(Station.id)).all()\n",
    "station_count"
   ]
  },
  {
   "cell_type": "code",
   "execution_count": 18,
   "metadata": {},
   "outputs": [
    {
     "data": {
      "text/plain": [
       "[('USC00519281', 2772),\n",
       " ('USC00519397', 2724),\n",
       " ('USC00513117', 2709),\n",
       " ('USC00519523', 2669),\n",
       " ('USC00516128', 2612),\n",
       " ('USC00514830', 2202),\n",
       " ('USC00511918', 1979),\n",
       " ('USC00517948', 1372),\n",
       " ('USC00518838', 511)]"
      ]
     },
     "execution_count": 18,
     "metadata": {},
     "output_type": "execute_result"
    }
   ],
   "source": [
    "# What are the most active stations? (i.e. what stations have the most rows)?\n",
    "# List the stations and the counts in descending order.\n",
    "count_by_station =  session.query(Measurement.station, func.count(Measurement.station)).\\\n",
    "                    group_by(Measurement.station).\\\n",
    "                    order_by(func.count(Measurement.station).desc()).all()\n",
    "count_by_station"
   ]
  },
  {
   "cell_type": "code",
   "execution_count": 19,
   "metadata": {},
   "outputs": [
    {
     "data": {
      "text/plain": [
       "[(54.0, 85.0, 71.66378066378067)]"
      ]
     },
     "execution_count": 19,
     "metadata": {},
     "output_type": "execute_result"
    }
   ],
   "source": [
    "# Using the station id from the previous query, calculate the lowest temperature recorded, \n",
    "# highest temperature recorded, and average temperature of the most active station?\n",
    "session.query(func.min(Measurement.tobs),func.max(Measurement.tobs),func.avg(Measurement.tobs)).\\\n",
    "filter(Measurement.station == 'USC00519281').all()"
   ]
  },
  {
   "cell_type": "code",
   "execution_count": 20,
   "metadata": {},
   "outputs": [
    {
     "data": {
      "text/plain": [
       "[('2016-08-24', 77.0),\n",
       " ('2016-08-25', 80.0),\n",
       " ('2016-08-26', 80.0),\n",
       " ('2016-08-27', 75.0),\n",
       " ('2016-08-28', 73.0)]"
      ]
     },
     "execution_count": 20,
     "metadata": {},
     "output_type": "execute_result"
    }
   ],
   "source": [
    "# Choose the station with the highest number of temperature observations.\n",
    "# Query the last 12 months of temperature observation data for this station and plot the results as a histogram\n",
    "USC00519281_data =  session.query(Measurement.date,Measurement.tobs).\\\n",
    "                    filter(Measurement.station == 'USC00519281').\\\n",
    "                    filter(Measurement.date > last_year_date).all()\n",
    "USC00519281_data[:5]"
   ]
  },
  {
   "cell_type": "code",
   "execution_count": 21,
   "metadata": {},
   "outputs": [
    {
     "data": {
      "image/png": "[encoded data removed]",
      "text/plain": [
       "<Figure size 432x288 with 1 Axes>"
      ]
     },
     "metadata": {
      "needs_background": "light"
     },
     "output_type": "display_data"
    }
   ],
   "source": [
    "USC00519281_df= pd.DataFrame(USC00519281_data)\n",
    "USC00519281_df.plot(kind=\"hist\",bins=12);"
   ]
  },
  {
   "cell_type": "markdown",
   "metadata": {},
   "source": [
    "## Optional Challenge Assignment"
   ]
  },
  {
   "cell_type": "markdown",
   "metadata": {},
   "source": [
    "### Temperature Analysis I"
   ]
  },
  {
   "cell_type": "markdown",
   "metadata": {},
   "source": [
    "Hawaii is reputed to enjoy mild weather all year. Is there a meaningful difference between the temperature in, for example, June and December?\n",
    "\n",
    "You may either use SQLAlchemy or pandas's read_csv() to perform this portion.\n",
    "\n",
    "Identify the average temperature in June at all stations across all available years in the dataset. Do the same for December temperature.\n",
    "\n",
    "Use the t-test to determine whether the difference in the means, if any, is statistically significant. Will you use a paired t-test, or an unpaired t-test? Why?"
   ]
  },
  {
   "cell_type": "code",
   "execution_count": 22,
   "metadata": {},
   "outputs": [
    {
     "data": {
      "text/html": [
       "<div>\n",
       "<style scoped>\n",
       "    .dataframe tbody tr th:only-of-type {\n",
       "        vertical-align: middle;\n",
       "    }\n",
       "\n",
       "    .dataframe tbody tr th {\n",
       "        vertical-align: top;\n",
       "    }\n",
       "\n",
       "    .dataframe thead th {\n",
       "        text-align: right;\n",
       "    }\n",
       "</style>\n",
       "<table border=\"1\" class=\"dataframe\">\n",
       "  <thead>\n",
       "    <tr style=\"text-align: right;\">\n",
       "      <th></th>\n",
       "      <th>Temperature</th>\n",
       "    </tr>\n",
       "    <tr>\n",
       "      <th>Month</th>\n",
       "      <th></th>\n",
       "    </tr>\n",
       "  </thead>\n",
       "  <tbody>\n",
       "    <tr>\n",
       "      <th>December</th>\n",
       "      <td>71.041529</td>\n",
       "    </tr>\n",
       "    <tr>\n",
       "      <th>June</th>\n",
       "      <td>74.944118</td>\n",
       "    </tr>\n",
       "  </tbody>\n",
       "</table>\n",
       "</div>"
      ],
      "text/plain": [
       "          Temperature\n",
       "Month                \n",
       "December    71.041529\n",
       "June        74.944118"
      ]
     },
     "execution_count": 22,
     "metadata": {},
     "output_type": "execute_result"
    }
   ],
   "source": [
    "# return the raw data from each month, June and December\n",
    "june_data = session.query(Measurement.date, Measurement.tobs).filter(func.strftime(\"%m\",Measurement.date) == '06').all()\n",
    "december_data = session.query(Measurement.date, Measurement.tobs).filter(func.strftime(\"%m\",Measurement.date) == '12').all()\n",
    "\n",
    "# convert raw data to DataFrames to label them and then concatenate into one DataFrame\n",
    "june_df = pd.DataFrame(june_data,columns=[\"Date\",\"Temperature\"])\n",
    "december_df = pd.DataFrame(december_data,columns=[\"Date\",\"Temperature\"])\n",
    "june_df[\"Month\"] = \"June\"\n",
    "december_df[\"Month\"] = \"December\"\n",
    "temp_df = pd.concat([june_df,december_df], ignore_index=True)\n",
    "\n",
    "# calculate the average for both June and December\n",
    "avg_temp_month = temp_df.groupby(\"Month\").mean()\n",
    "avg_temp_month"
   ]
  },
  {
   "cell_type": "code",
   "execution_count": 23,
   "metadata": {},
   "outputs": [
    {
     "data": {
      "text/plain": [
       "Ttest_indResult(statistic=31.60372399000329, pvalue=3.9025129038616655e-191)"
      ]
     },
     "execution_count": 23,
     "metadata": {},
     "output_type": "execute_result"
    },
    {
     "data": {
      "image/png": "[encoded data removed]",
      "text/plain": [
       "<Figure size 432x288 with 1 Axes>"
      ]
     },
     "metadata": {
      "needs_background": "light"
     },
     "output_type": "display_data"
    }
   ],
   "source": [
    "# We will use the t-test to determine if the average temperatures between June and December are statistically \n",
    "# significantly different. We will use the unpaired t-test because we are comparing means from separate groups \n",
    "# by month that are not dependent on each other\n",
    "\n",
    "# H0: The difference between the mean temperatures of June and December is equal to zero\n",
    "# H1: The difference between the mean temperatures of June and June and December is NOT equal to zero\n",
    "\n",
    "box_data = [june_df[\"Temperature\"],december_df[\"Temperature\"]]\n",
    "plt.boxplot(box_data,labels=['June', 'December']);\n",
    "stats.ttest_ind(june_df[\"Temperature\"], december_df[\"Temperature\"])"
   ]
  },
  {
   "cell_type": "markdown",
   "metadata": {},
   "source": [
    "The boxplot looks like there is overlap but since the p-value is less than 0.05, we can reject the null hypothesis and conclude that the difference in means is statistically significant and that there is a meaningful difference in temperature between June and December."
   ]
  },
  {
   "cell_type": "markdown",
   "metadata": {},
   "source": [
    "### Temperature Analysis II"
   ]
  },
  {
   "cell_type": "code",
   "execution_count": 24,
   "metadata": {},
   "outputs": [
    {
     "name": "stdout",
     "output_type": "stream",
     "text": [
      "[(62.0, 69.57142857142857, 74.0)]\n"
     ]
    }
   ],
   "source": [
    "# This function called `calc_temps` will accept start date and end date in the format '%Y-%m-%d' \n",
    "# and return the minimum, average, and maximum temperatures for that range of dates\n",
    "def calc_temps(start_date, end_date):\n",
    "    \"\"\"TMIN, TAVG, and TMAX for a list of dates.\n",
    "    \n",
    "    Args:\n",
    "        start_date (string): A date string in the format %Y-%m-%d\n",
    "        end_date (string): A date string in the format %Y-%m-%d\n",
    "        \n",
    "    Returns:\n",
    "        TMIN, TAVE, and TMAX\n",
    "    \"\"\"\n",
    "    \n",
    "    return session.query(func.min(Measurement.tobs), func.avg(Measurement.tobs), func.max(Measurement.tobs)).\\\n",
    "        filter(Measurement.date >= start_date).filter(Measurement.date <= end_date).all()\n",
    "\n",
    "# function usage example\n",
    "print(calc_temps('2012-02-28', '2012-03-05'))"
   ]
  },
  {
   "cell_type": "code",
   "execution_count": 25,
   "metadata": {},
   "outputs": [
    {
     "name": "stdout",
     "output_type": "stream",
     "text": [
      "63.0 72.47524752475248 81.0\n"
     ]
    }
   ],
   "source": [
    "# Use your previous function `calc_temps` to calculate the tmin, tavg, and tmax \n",
    "# for your trip using the previous year's data for those same dates.\n",
    "\n",
    "# Let's choose the date range 4/10/2014-4/22/2014. That seems like a good amount of time for a trip to Hawaii!\n",
    "trip_start_date = '2014-04-10'\n",
    "trip_end_date = '2014-04-22'\n",
    "\n",
    "last_year_date = (dt.datetime.strptime(last_date[0],'%Y-%m-%d') - dt.timedelta(days=365)).strftime('%Y-%m-%d')\n",
    "\n",
    "def get_last_year_dates(start_date, end_date):\n",
    "    \"\"\"Calculates last year's start and end dates given the input start and end dates.\n",
    "       This assumes no leap year (yet). \n",
    "    \n",
    "    Args:\n",
    "        start_date (string): A date string in the format %Y-%m-%d\n",
    "        end_date (string): A date string in the format %Y-%m-%d\n",
    "        \n",
    "    Returns:\n",
    "        last_year_start_date (string): A date string in the format %Y-%m-%d 365 days earlier than start_date\n",
    "        last_year_end_date (string): A date string in the format %Y-%m-%d 365 days earlier than end_date\n",
    "    \"\"\"\n",
    "    \n",
    "    last_year_start_date = (dt.datetime.strptime(trip_start_date,'%Y-%m-%d') - dt.timedelta(days=365)).strftime('%Y-%m-%d')\n",
    "    last_year_end_date = (dt.datetime.strptime(trip_end_date,'%Y-%m-%d') - dt.timedelta(days=365)).strftime('%Y-%m-%d')\n",
    "    return last_year_start_date, last_year_end_date\n",
    "\n",
    "last_start_date, last_end_date = get_last_year_dates(trip_start_date, trip_end_date)\n",
    "\n",
    "tmin, tavg, tmax = calc_temps(last_start_date,last_end_date)[0]\n",
    "print(tmin, tavg, tmax)"
   ]
  },
  {
   "cell_type": "code",
   "execution_count": 26,
   "metadata": {},
   "outputs": [
    {
     "data": {
      "image/png": "[encoded data removed]",
      "text/plain": [
       "<Figure size 360x720 with 1 Axes>"
      ]
     },
     "metadata": {
      "needs_background": "light"
     },
     "output_type": "display_data"
    }
   ],
   "source": [
    "# Plot the results from your previous query as a bar chart. \n",
    "# Use \"Trip Avg Temp\" as your Title\n",
    "# Use the average temperature for the y value\n",
    "# Use the peak-to-peak (tmax-tmin) value as the y error bar (yerr)\n",
    "\n",
    "plt.figure(figsize=(5,10));\n",
    "plt.bar(x=\"\",height=tavg,yerr=tmax-tmin,color='m',alpha=.5,align='edge');\n",
    "plt.ylim(0,100);\n",
    "plt.xlabel(\"Avg Temp\")\n",
    "plt.ylabel(\"Temp (F)\");\n",
    "plt.title(\"Trip Avg Temp\");"
   ]
  },
  {
   "cell_type": "code",
   "execution_count": 27,
   "metadata": {},
   "outputs": [
    {
     "data": {
      "text/plain": [
       "[('USC00519397', 'WAIKIKI 717.2, HI US', 966.0, 21.2716, -157.8168, 3.0),\n",
       " ('USC00519523',\n",
       "  'WAIMANALO EXPERIMENTAL FARM, HI US',\n",
       "  948.0,\n",
       "  21.33556,\n",
       "  -157.71139,\n",
       "  19.5),\n",
       " ('USC00519281',\n",
       "  'WAIHEE 837.5, HI US',\n",
       "  926.0,\n",
       "  21.45167,\n",
       "  -157.84888999999998,\n",
       "  32.9),\n",
       " ('USC00513117', 'KANEOHE 838.1, HI US', 924.0, 21.4234, -157.8015, 14.6),\n",
       " ('USC00511918',\n",
       "  'HONOLULU OBSERVATORY 702.2, HI US',\n",
       "  922.0,\n",
       "  21.3152,\n",
       "  -157.9992,\n",
       "  0.9),\n",
       " ('USC00516128',\n",
       "  'MANOA LYON ARBO 785.2, HI US',\n",
       "  920.0,\n",
       "  21.3331,\n",
       "  -157.8025,\n",
       "  152.4),\n",
       " ('USC00514830',\n",
       "  'KUALOA RANCH HEADQUARTERS 886.9, HI US',\n",
       "  905.0,\n",
       "  21.5213,\n",
       "  -157.8374,\n",
       "  7.0),\n",
       " ('USC00517948', 'PEARL CITY, HI US', 669.0, 21.3934, -157.9751, 11.9),\n",
       " ('USC00518838',\n",
       "  'UPPER WAHIAWA 874.3, HI US',\n",
       "  140.0,\n",
       "  21.4992,\n",
       "  -158.0111,\n",
       "  306.6)]"
      ]
     },
     "execution_count": 27,
     "metadata": {},
     "output_type": "execute_result"
    }
   ],
   "source": [
    "# Calculate the total amount of rainfall per weather station for your trip dates using the previous year's matching dates.\n",
    "# Sort this in descending order by precipitation amount and list the station, name, latitude, longitude, and elevation\n",
    "# (Note: Need to include columns from both tables in the join for SQLAlchemy before running or else get an error)\n",
    "query_columns = [Station.station, Station.name, func.sum(Measurement.tobs), Station.latitude, Station.longitude, Station.elevation]\n",
    "\n",
    "last_year_data =    session.query(*query_columns).\\\n",
    "                    group_by(Measurement.station).\\\n",
    "                    outerjoin(Station, Measurement.station==Station.station).\\\n",
    "                    filter(Measurement.date >= last_start_date).filter(Measurement.date <= last_end_date).\\\n",
    "                    order_by(func.sum(Measurement.tobs).desc()).all()\n",
    "last_year_data"
   ]
  },
  {
   "cell_type": "markdown",
   "metadata": {},
   "source": [
    "That is really hard to read so let's convert this to a pandas DataFrame for better readability."
   ]
  },
  {
   "cell_type": "code",
   "execution_count": 28,
   "metadata": {},
   "outputs": [
    {
     "data": {
      "text/html": [
       "<div>\n",
       "<style scoped>\n",
       "    .dataframe tbody tr th:only-of-type {\n",
       "        vertical-align: middle;\n",
       "    }\n",
       "\n",
       "    .dataframe tbody tr th {\n",
       "        vertical-align: top;\n",
       "    }\n",
       "\n",
       "    .dataframe thead th {\n",
       "        text-align: right;\n",
       "    }\n",
       "</style>\n",
       "<table border=\"1\" class=\"dataframe\">\n",
       "  <thead>\n",
       "    <tr style=\"text-align: right;\">\n",
       "      <th></th>\n",
       "      <th>Station</th>\n",
       "      <th>Station_Name</th>\n",
       "      <th>Total_Rainfall</th>\n",
       "      <th>Latitude</th>\n",
       "      <th>Longitude</th>\n",
       "      <th>Elevation</th>\n",
       "    </tr>\n",
       "  </thead>\n",
       "  <tbody>\n",
       "    <tr>\n",
       "      <th>0</th>\n",
       "      <td>USC00519397</td>\n",
       "      <td>WAIKIKI 717.2, HI US</td>\n",
       "      <td>966.0</td>\n",
       "      <td>21.27160</td>\n",
       "      <td>-157.81680</td>\n",
       "      <td>3.0</td>\n",
       "    </tr>\n",
       "    <tr>\n",
       "      <th>1</th>\n",
       "      <td>USC00519523</td>\n",
       "      <td>WAIMANALO EXPERIMENTAL FARM, HI US</td>\n",
       "      <td>948.0</td>\n",
       "      <td>21.33556</td>\n",
       "      <td>-157.71139</td>\n",
       "      <td>19.5</td>\n",
       "    </tr>\n",
       "    <tr>\n",
       "      <th>2</th>\n",
       "      <td>USC00519281</td>\n",
       "      <td>WAIHEE 837.5, HI US</td>\n",
       "      <td>926.0</td>\n",
       "      <td>21.45167</td>\n",
       "      <td>-157.84889</td>\n",
       "      <td>32.9</td>\n",
       "    </tr>\n",
       "    <tr>\n",
       "      <th>3</th>\n",
       "      <td>USC00513117</td>\n",
       "      <td>KANEOHE 838.1, HI US</td>\n",
       "      <td>924.0</td>\n",
       "      <td>21.42340</td>\n",
       "      <td>-157.80150</td>\n",
       "      <td>14.6</td>\n",
       "    </tr>\n",
       "    <tr>\n",
       "      <th>4</th>\n",
       "      <td>USC00511918</td>\n",
       "      <td>HONOLULU OBSERVATORY 702.2, HI US</td>\n",
       "      <td>922.0</td>\n",
       "      <td>21.31520</td>\n",
       "      <td>-157.99920</td>\n",
       "      <td>0.9</td>\n",
       "    </tr>\n",
       "    <tr>\n",
       "      <th>5</th>\n",
       "      <td>USC00516128</td>\n",
       "      <td>MANOA LYON ARBO 785.2, HI US</td>\n",
       "      <td>920.0</td>\n",
       "      <td>21.33310</td>\n",
       "      <td>-157.80250</td>\n",
       "      <td>152.4</td>\n",
       "    </tr>\n",
       "    <tr>\n",
       "      <th>6</th>\n",
       "      <td>USC00514830</td>\n",
       "      <td>KUALOA RANCH HEADQUARTERS 886.9, HI US</td>\n",
       "      <td>905.0</td>\n",
       "      <td>21.52130</td>\n",
       "      <td>-157.83740</td>\n",
       "      <td>7.0</td>\n",
       "    </tr>\n",
       "    <tr>\n",
       "      <th>7</th>\n",
       "      <td>USC00517948</td>\n",
       "      <td>PEARL CITY, HI US</td>\n",
       "      <td>669.0</td>\n",
       "      <td>21.39340</td>\n",
       "      <td>-157.97510</td>\n",
       "      <td>11.9</td>\n",
       "    </tr>\n",
       "    <tr>\n",
       "      <th>8</th>\n",
       "      <td>USC00518838</td>\n",
       "      <td>UPPER WAHIAWA 874.3, HI US</td>\n",
       "      <td>140.0</td>\n",
       "      <td>21.49920</td>\n",
       "      <td>-158.01110</td>\n",
       "      <td>306.6</td>\n",
       "    </tr>\n",
       "  </tbody>\n",
       "</table>\n",
       "</div>"
      ],
      "text/plain": [
       "       Station                            Station_Name  Total_Rainfall  \\\n",
       "0  USC00519397                    WAIKIKI 717.2, HI US           966.0   \n",
       "1  USC00519523      WAIMANALO EXPERIMENTAL FARM, HI US           948.0   \n",
       "2  USC00519281                     WAIHEE 837.5, HI US           926.0   \n",
       "3  USC00513117                    KANEOHE 838.1, HI US           924.0   \n",
       "4  USC00511918       HONOLULU OBSERVATORY 702.2, HI US           922.0   \n",
       "5  USC00516128            MANOA LYON ARBO 785.2, HI US           920.0   \n",
       "6  USC00514830  KUALOA RANCH HEADQUARTERS 886.9, HI US           905.0   \n",
       "7  USC00517948                       PEARL CITY, HI US           669.0   \n",
       "8  USC00518838              UPPER WAHIAWA 874.3, HI US           140.0   \n",
       "\n",
       "   Latitude  Longitude  Elevation  \n",
       "0  21.27160 -157.81680        3.0  \n",
       "1  21.33556 -157.71139       19.5  \n",
       "2  21.45167 -157.84889       32.9  \n",
       "3  21.42340 -157.80150       14.6  \n",
       "4  21.31520 -157.99920        0.9  \n",
       "5  21.33310 -157.80250      152.4  \n",
       "6  21.52130 -157.83740        7.0  \n",
       "7  21.39340 -157.97510       11.9  \n",
       "8  21.49920 -158.01110      306.6  "
      ]
     },
     "execution_count": 28,
     "metadata": {},
     "output_type": "execute_result"
    }
   ],
   "source": [
    "pd.DataFrame(last_year_data,\n",
    "             columns=[\"Station\",\"Station_Name\", \"Total_Rainfall\", \"Latitude\", \"Longitude\", \"Elevation\"]\n",
    "            ).sort_values(\"Total_Rainfall\",ascending=False)"
   ]
  },
  {
   "cell_type": "markdown",
   "metadata": {},
   "source": [
    "### Daily Rainfall Average"
   ]
  },
  {
   "cell_type": "code",
   "execution_count": 29,
   "metadata": {},
   "outputs": [
    {
     "data": {
      "text/plain": [
       "[(62.0, 69.15384615384616, 77.0)]"
      ]
     },
     "execution_count": 29,
     "metadata": {},
     "output_type": "execute_result"
    }
   ],
   "source": [
    "# Create a query that will calculate the daily normals \n",
    "# (i.e. the averages for tmin, tmax, and tavg for all historic data matching a specific month and day)\n",
    "\n",
    "def daily_normals(date):\n",
    "    \"\"\"Daily Normals.\n",
    "    \n",
    "    Args:\n",
    "        date (str): A date string in the format '%m-%d'\n",
    "        \n",
    "    Returns:\n",
    "        A list of tuples containing the daily normals, tmin, tavg, and tmax\n",
    "    \n",
    "    \"\"\"\n",
    "    \n",
    "    sel = [func.min(Measurement.tobs), func.avg(Measurement.tobs), func.max(Measurement.tobs)]\n",
    "    return session.query(*sel).filter(func.strftime(\"%m-%d\", Measurement.date) == date).all()\n",
    "    \n",
    "daily_normals(\"01-01\")"
   ]
  },
  {
   "cell_type": "code",
   "execution_count": 30,
   "metadata": {},
   "outputs": [
    {
     "name": "stdout",
     "output_type": "stream",
     "text": [
      "The trip dates are 2014-04-10 to 2014-04-22\n"
     ]
    }
   ],
   "source": [
    "# Calculate the daily normals for your trip\n",
    "# Push each tuple of calculations into a list called `normals`\n",
    "\n",
    "# Set the start and end date of the trip\n",
    "print(f\"The trip dates are {trip_start_date} to {trip_end_date}\")"
   ]
  },
  {
   "cell_type": "code",
   "execution_count": 31,
   "metadata": {},
   "outputs": [
    {
     "data": {
      "text/plain": [
       "['04-10',\n",
       " '04-11',\n",
       " '04-12',\n",
       " '04-13',\n",
       " '04-14',\n",
       " '04-15',\n",
       " '04-16',\n",
       " '04-17',\n",
       " '04-18',\n",
       " '04-19',\n",
       " '04-20',\n",
       " '04-21',\n",
       " '04-22']"
      ]
     },
     "execution_count": 31,
     "metadata": {},
     "output_type": "execute_result"
    }
   ],
   "source": [
    "# Use the start and end date to create a range of dates\n",
    "s_date = dt.datetime.strptime(trip_start_date,'%Y-%m-%d')\n",
    "e_date = dt.datetime.strptime(trip_end_date,'%Y-%m-%d') \n",
    "delta = e_date - s_date\n",
    "normals = []\n",
    "\n",
    "for i in range(delta.days + 1):\n",
    "    day = s_date + dt.timedelta(days=i)\n",
    "    # Strip off the year and save a list of %m-%d strings\n",
    "    month_day = dt.datetime.strftime(day,'%m-%d')\n",
    "    normals.append(month_day)\n",
    "    \n",
    "normals"
   ]
  },
  {
   "cell_type": "code",
   "execution_count": 32,
   "metadata": {},
   "outputs": [
    {
     "data": {
      "text/plain": [
       "[(64.0, 71.40350877192982, 79.0),\n",
       " (65.0, 72.49180327868852, 82.0),\n",
       " (65.0, 72.22413793103448, 80.0),\n",
       " (64.0, 71.52542372881356, 79.0),\n",
       " (65.0, 72.75, 81.0),\n",
       " (61.0, 71.79310344827586, 79.0),\n",
       " (62.0, 71.55357142857143, 81.0),\n",
       " (65.0, 71.93103448275862, 77.0),\n",
       " (67.0, 72.49152542372882, 77.0),\n",
       " (65.0, 72.42105263157895, 83.0),\n",
       " (64.0, 72.73684210526316, 80.0),\n",
       " (66.0, 72.32142857142857, 78.0),\n",
       " (65.0, 72.92727272727272, 84.0)]"
      ]
     },
     "execution_count": 32,
     "metadata": {},
     "output_type": "execute_result"
    }
   ],
   "source": [
    "# Loop through the list of %m-%d strings and calculate the normals for each date\n",
    "normal_list = []\n",
    "for day in normals:\n",
    "    normal_list.append(daily_normals(day)[0])\n",
    "    \n",
    "normal_list"
   ]
  },
  {
   "cell_type": "code",
   "execution_count": 33,
   "metadata": {},
   "outputs": [
    {
     "data": {
      "text/html": [
       "<div>\n",
       "<style scoped>\n",
       "    .dataframe tbody tr th:only-of-type {\n",
       "        vertical-align: middle;\n",
       "    }\n",
       "\n",
       "    .dataframe tbody tr th {\n",
       "        vertical-align: top;\n",
       "    }\n",
       "\n",
       "    .dataframe thead th {\n",
       "        text-align: right;\n",
       "    }\n",
       "</style>\n",
       "<table border=\"1\" class=\"dataframe\">\n",
       "  <thead>\n",
       "    <tr style=\"text-align: right;\">\n",
       "      <th></th>\n",
       "      <th>tmin</th>\n",
       "      <th>tavg</th>\n",
       "      <th>tmax</th>\n",
       "    </tr>\n",
       "  </thead>\n",
       "  <tbody>\n",
       "    <tr>\n",
       "      <th>04-10</th>\n",
       "      <td>64.0</td>\n",
       "      <td>71.403509</td>\n",
       "      <td>79.0</td>\n",
       "    </tr>\n",
       "    <tr>\n",
       "      <th>04-11</th>\n",
       "      <td>65.0</td>\n",
       "      <td>72.491803</td>\n",
       "      <td>82.0</td>\n",
       "    </tr>\n",
       "    <tr>\n",
       "      <th>04-12</th>\n",
       "      <td>65.0</td>\n",
       "      <td>72.224138</td>\n",
       "      <td>80.0</td>\n",
       "    </tr>\n",
       "    <tr>\n",
       "      <th>04-13</th>\n",
       "      <td>64.0</td>\n",
       "      <td>71.525424</td>\n",
       "      <td>79.0</td>\n",
       "    </tr>\n",
       "    <tr>\n",
       "      <th>04-14</th>\n",
       "      <td>65.0</td>\n",
       "      <td>72.750000</td>\n",
       "      <td>81.0</td>\n",
       "    </tr>\n",
       "    <tr>\n",
       "      <th>04-15</th>\n",
       "      <td>61.0</td>\n",
       "      <td>71.793103</td>\n",
       "      <td>79.0</td>\n",
       "    </tr>\n",
       "    <tr>\n",
       "      <th>04-16</th>\n",
       "      <td>62.0</td>\n",
       "      <td>71.553571</td>\n",
       "      <td>81.0</td>\n",
       "    </tr>\n",
       "    <tr>\n",
       "      <th>04-17</th>\n",
       "      <td>65.0</td>\n",
       "      <td>71.931034</td>\n",
       "      <td>77.0</td>\n",
       "    </tr>\n",
       "    <tr>\n",
       "      <th>04-18</th>\n",
       "      <td>67.0</td>\n",
       "      <td>72.491525</td>\n",
       "      <td>77.0</td>\n",
       "    </tr>\n",
       "    <tr>\n",
       "      <th>04-19</th>\n",
       "      <td>65.0</td>\n",
       "      <td>72.421053</td>\n",
       "      <td>83.0</td>\n",
       "    </tr>\n",
       "    <tr>\n",
       "      <th>04-20</th>\n",
       "      <td>64.0</td>\n",
       "      <td>72.736842</td>\n",
       "      <td>80.0</td>\n",
       "    </tr>\n",
       "    <tr>\n",
       "      <th>04-21</th>\n",
       "      <td>66.0</td>\n",
       "      <td>72.321429</td>\n",
       "      <td>78.0</td>\n",
       "    </tr>\n",
       "    <tr>\n",
       "      <th>04-22</th>\n",
       "      <td>65.0</td>\n",
       "      <td>72.927273</td>\n",
       "      <td>84.0</td>\n",
       "    </tr>\n",
       "  </tbody>\n",
       "</table>\n",
       "</div>"
      ],
      "text/plain": [
       "       tmin       tavg  tmax\n",
       "04-10  64.0  71.403509  79.0\n",
       "04-11  65.0  72.491803  82.0\n",
       "04-12  65.0  72.224138  80.0\n",
       "04-13  64.0  71.525424  79.0\n",
       "04-14  65.0  72.750000  81.0\n",
       "04-15  61.0  71.793103  79.0\n",
       "04-16  62.0  71.553571  81.0\n",
       "04-17  65.0  71.931034  77.0\n",
       "04-18  67.0  72.491525  77.0\n",
       "04-19  65.0  72.421053  83.0\n",
       "04-20  64.0  72.736842  80.0\n",
       "04-21  66.0  72.321429  78.0\n",
       "04-22  65.0  72.927273  84.0"
      ]
     },
     "execution_count": 33,
     "metadata": {},
     "output_type": "execute_result"
    }
   ],
   "source": [
    "# Load the previous query results into a Pandas DataFrame and add the `trip_dates` range as the `date` index\n",
    "normals_df = pd.DataFrame(normal_list,columns=[\"tmin\",\"tavg\",\"tmax\"],index=[normals])\n",
    "normals_df.index = normals_df.index.get_level_values(0)\n",
    "normals_df"
   ]
  },
  {
   "cell_type": "code",
   "execution_count": 34,
   "metadata": {},
   "outputs": [
    {
     "data": {
      "image/png": "[encoded data removed]",
      "text/plain": [
       "<Figure size 432x288 with 1 Axes>"
      ]
     },
     "metadata": {
      "needs_background": "light"
     },
     "output_type": "display_data"
    }
   ],
   "source": [
    "# Plot the daily normals as an area plot with `stacked=False`\n",
    "normals_df.plot(kind=\"area\",stacked=False,rot=45,alpha=.2);\n",
    "plt.xlabel(\"date\");"
   ]
  },
  {
   "cell_type": "markdown",
   "metadata": {},
   "source": [
    "## Side Analysis: Precipitation Levels Bar Chart Investigation"
   ]
  },
  {
   "cell_type": "markdown",
   "metadata": {},
   "source": [
    "Recall our bar plot from \"Precipitation Levels Per Day Over the Past Year\". It has a very specific look to the bar plot but it depends on how we plot it."
   ]
  },
  {
   "cell_type": "code",
   "execution_count": 35,
   "metadata": {},
   "outputs": [
    {
     "data": {
      "text/html": [
       "<div>\n",
       "<style scoped>\n",
       "    .dataframe tbody tr th:only-of-type {\n",
       "        vertical-align: middle;\n",
       "    }\n",
       "\n",
       "    .dataframe tbody tr th {\n",
       "        vertical-align: top;\n",
       "    }\n",
       "\n",
       "    .dataframe thead th {\n",
       "        text-align: right;\n",
       "    }\n",
       "</style>\n",
       "<table border=\"1\" class=\"dataframe\">\n",
       "  <thead>\n",
       "    <tr style=\"text-align: right;\">\n",
       "      <th></th>\n",
       "      <th>date</th>\n",
       "      <th>precipitation</th>\n",
       "    </tr>\n",
       "  </thead>\n",
       "  <tbody>\n",
       "    <tr>\n",
       "      <th>0</th>\n",
       "      <td>2016-08-23</td>\n",
       "      <td>0.00</td>\n",
       "    </tr>\n",
       "    <tr>\n",
       "      <th>1</th>\n",
       "      <td>2016-08-24</td>\n",
       "      <td>0.08</td>\n",
       "    </tr>\n",
       "    <tr>\n",
       "      <th>2</th>\n",
       "      <td>2016-08-25</td>\n",
       "      <td>0.08</td>\n",
       "    </tr>\n",
       "    <tr>\n",
       "      <th>3</th>\n",
       "      <td>2016-08-26</td>\n",
       "      <td>0.00</td>\n",
       "    </tr>\n",
       "    <tr>\n",
       "      <th>4</th>\n",
       "      <td>2016-08-27</td>\n",
       "      <td>0.00</td>\n",
       "    </tr>\n",
       "  </tbody>\n",
       "</table>\n",
       "</div>"
      ],
      "text/plain": [
       "         date  precipitation\n",
       "0  2016-08-23           0.00\n",
       "1  2016-08-24           0.08\n",
       "2  2016-08-25           0.08\n",
       "3  2016-08-26           0.00\n",
       "4  2016-08-27           0.00"
      ]
     },
     "execution_count": 35,
     "metadata": {},
     "output_type": "execute_result"
    }
   ],
   "source": [
    "# Reading this in again for separate side investigation\n",
    "inv_prcp_df = pd.DataFrame(prcp_data,columns=['date','precipitation'])\n",
    "inv_prcp_df.head()"
   ]
  },
  {
   "cell_type": "code",
   "execution_count": 36,
   "metadata": {},
   "outputs": [
    {
     "data": {
      "text/html": [
       "<div>\n",
       "<style scoped>\n",
       "    .dataframe tbody tr th:only-of-type {\n",
       "        vertical-align: middle;\n",
       "    }\n",
       "\n",
       "    .dataframe tbody tr th {\n",
       "        vertical-align: top;\n",
       "    }\n",
       "\n",
       "    .dataframe thead th {\n",
       "        text-align: right;\n",
       "    }\n",
       "</style>\n",
       "<table border=\"1\" class=\"dataframe\">\n",
       "  <thead>\n",
       "    <tr style=\"text-align: right;\">\n",
       "      <th></th>\n",
       "      <th>precipitation</th>\n",
       "    </tr>\n",
       "    <tr>\n",
       "      <th>date</th>\n",
       "      <th></th>\n",
       "    </tr>\n",
       "  </thead>\n",
       "  <tbody>\n",
       "    <tr>\n",
       "      <th>2016-08-23</th>\n",
       "      <td>0.00</td>\n",
       "    </tr>\n",
       "    <tr>\n",
       "      <th>2016-08-24</th>\n",
       "      <td>0.08</td>\n",
       "    </tr>\n",
       "    <tr>\n",
       "      <th>2016-08-25</th>\n",
       "      <td>0.08</td>\n",
       "    </tr>\n",
       "    <tr>\n",
       "      <th>2016-08-26</th>\n",
       "      <td>0.00</td>\n",
       "    </tr>\n",
       "    <tr>\n",
       "      <th>2016-08-27</th>\n",
       "      <td>0.00</td>\n",
       "    </tr>\n",
       "  </tbody>\n",
       "</table>\n",
       "</div>"
      ],
      "text/plain": [
       "            precipitation\n",
       "date                     \n",
       "2016-08-23           0.00\n",
       "2016-08-24           0.08\n",
       "2016-08-25           0.08\n",
       "2016-08-26           0.00\n",
       "2016-08-27           0.00"
      ]
     },
     "execution_count": 36,
     "metadata": {},
     "output_type": "execute_result"
    }
   ],
   "source": [
    "inv_prcp_df.set_index('date',inplace=True)\n",
    "inv_prcp_df.head()"
   ]
  },
  {
   "cell_type": "code",
   "execution_count": 37,
   "metadata": {},
   "outputs": [
    {
     "data": {
      "text/html": [
       "<div>\n",
       "<style scoped>\n",
       "    .dataframe tbody tr th:only-of-type {\n",
       "        vertical-align: middle;\n",
       "    }\n",
       "\n",
       "    .dataframe tbody tr th {\n",
       "        vertical-align: top;\n",
       "    }\n",
       "\n",
       "    .dataframe thead th {\n",
       "        text-align: right;\n",
       "    }\n",
       "</style>\n",
       "<table border=\"1\" class=\"dataframe\">\n",
       "  <thead>\n",
       "    <tr style=\"text-align: right;\">\n",
       "      <th></th>\n",
       "      <th>precipitation</th>\n",
       "    </tr>\n",
       "    <tr>\n",
       "      <th>date</th>\n",
       "      <th></th>\n",
       "    </tr>\n",
       "  </thead>\n",
       "  <tbody>\n",
       "    <tr>\n",
       "      <th>2016-08-23</th>\n",
       "      <td>0.00</td>\n",
       "    </tr>\n",
       "    <tr>\n",
       "      <th>2016-08-23</th>\n",
       "      <td>NaN</td>\n",
       "    </tr>\n",
       "    <tr>\n",
       "      <th>2016-08-23</th>\n",
       "      <td>1.79</td>\n",
       "    </tr>\n",
       "    <tr>\n",
       "      <th>2016-08-23</th>\n",
       "      <td>0.05</td>\n",
       "    </tr>\n",
       "    <tr>\n",
       "      <th>2016-08-23</th>\n",
       "      <td>0.15</td>\n",
       "    </tr>\n",
       "  </tbody>\n",
       "</table>\n",
       "</div>"
      ],
      "text/plain": [
       "            precipitation\n",
       "date                     \n",
       "2016-08-23           0.00\n",
       "2016-08-23            NaN\n",
       "2016-08-23           1.79\n",
       "2016-08-23           0.05\n",
       "2016-08-23           0.15"
      ]
     },
     "execution_count": 37,
     "metadata": {},
     "output_type": "execute_result"
    }
   ],
   "source": [
    "inv_prcp_df = inv_prcp_df.sort_index()\n",
    "inv_prcp_df.head()"
   ]
  },
  {
   "cell_type": "markdown",
   "metadata": {},
   "source": [
    "So I can see multiple entries in the index for 2017-08-23. This is because there are multiple stations and they can all take measurements on the same date so we can have what looks like a duplicate index value, but really it is for each station and without that column, we have data that makes a little less sense than it should.\n",
    "\n",
    "Let's specify the bar plot to be an actual bar plot."
   ]
  },
  {
   "cell_type": "code",
   "execution_count": 38,
   "metadata": {},
   "outputs": [
    {
     "data": {
      "image/png": "[encoded data removed]",
      "text/plain": [
       "<Figure size 432x288 with 1 Axes>"
      ]
     },
     "metadata": {
      "needs_background": "light"
     },
     "output_type": "display_data"
    }
   ],
   "source": [
    "# warning: this will take some time to run\n",
    "# specifying plot type this time\n",
    "inv_prcp_df.plot(kind='bar');"
   ]
  },
  {
   "cell_type": "markdown",
   "metadata": {},
   "source": [
    "Uhhhhhhh wut? This doesn't look anything like the original bar plot! But the steps do the same thing. Does rotation have anything to do with this?"
   ]
  },
  {
   "cell_type": "code",
   "execution_count": 39,
   "metadata": {},
   "outputs": [
    {
     "data": {
      "image/png": "[encoded data removed]",
      "text/plain": [
       "<Figure size 432x288 with 1 Axes>"
      ]
     },
     "metadata": {
      "needs_background": "light"
     },
     "output_type": "display_data"
    }
   ],
   "source": [
    "inv_prcp_df.plot(kind='bar', rot=90);"
   ]
  },
  {
   "cell_type": "markdown",
   "metadata": {},
   "source": [
    "Rotation has nothing to do with this."
   ]
  },
  {
   "cell_type": "markdown",
   "metadata": {},
   "source": [
    "Recall that we did not specify the plot type in the original plot. What does the documentation say about when we do this?"
   ]
  },
  {
   "cell_type": "code",
   "execution_count": 40,
   "metadata": {},
   "outputs": [
    {
     "name": "stdout",
     "output_type": "stream",
     "text": [
      "Help on class FramePlotMethods in module pandas.plotting._core:\n",
      "\n",
      "class FramePlotMethods(BasePlotMethods)\n",
      " |  DataFrame plotting accessor and method\n",
      " |  \n",
      " |  Examples\n",
      " |  --------\n",
      " |  >>> df.plot.line()\n",
      " |  >>> df.plot.scatter('x', 'y')\n",
      " |  >>> df.plot.hexbin()\n",
      " |  \n",
      " |  These plotting methods can also be accessed by calling the accessor as a\n",
      " |  method with the ``kind`` argument:\n",
      " |  ``df.plot(kind='line')`` is equivalent to ``df.plot.line()``\n",
      " |  \n",
      " |  Method resolution order:\n",
      " |      FramePlotMethods\n",
      " |      BasePlotMethods\n",
      " |      pandas.core.base.PandasObject\n",
      " |      pandas.core.base.StringMixin\n",
      " |      pandas.core.accessor.DirNamesMixin\n",
      " |      builtins.object\n",
      " |  \n",
      " |  Methods defined here:\n",
      " |  \n",
      " |  __call__(self, x=None, y=None, kind='line', ax=None, subplots=False, sharex=None, sharey=False, layout=None, figsize=None, use_index=True, title=None, grid=None, legend=True, style=None, logx=False, logy=False, loglog=False, xticks=None, yticks=None, xlim=None, ylim=None, rot=None, fontsize=None, colormap=None, table=False, yerr=None, xerr=None, secondary_y=False, sort_columns=False, **kwds)\n",
      " |      Make plots of DataFrame using matplotlib / pylab.\n",
      " |      \n",
      " |      *New in version 0.17.0:* Each plot kind has a corresponding method on the\n",
      " |      ``DataFrame.plot`` accessor:\n",
      " |      ``df.plot(kind='line')`` is equivalent to\n",
      " |      ``df.plot.line()``.\n",
      " |      \n",
      " |      Parameters\n",
      " |      ----------\n",
      " |      data : DataFrame\n",
      " |      x : label or position, default None\n",
      " |      y : label, position or list of label, positions, default None\n",
      " |          Allows plotting of one column versus another\n",
      " |      kind : str\n",
      " |          - 'line' : line plot (default)\n",
      " |          - 'bar' : vertical bar plot\n",
      " |          - 'barh' : horizontal bar plot\n",
      " |          - 'hist' : histogram\n",
      " |          - 'box' : boxplot\n",
      " |          - 'kde' : Kernel Density Estimation plot\n",
      " |          - 'density' : same as 'kde'\n",
      " |          - 'area' : area plot\n",
      " |          - 'pie' : pie plot\n",
      " |          - 'scatter' : scatter plot\n",
      " |          - 'hexbin' : hexbin plot\n",
      " |      ax : matplotlib axes object, default None\n",
      " |      subplots : boolean, default False\n",
      " |          Make separate subplots for each column\n",
      " |      sharex : boolean, default True if ax is None else False\n",
      " |          In case subplots=True, share x axis and set some x axis labels to\n",
      " |          invisible; defaults to True if ax is None otherwise False if an ax\n",
      " |          is passed in; Be aware, that passing in both an ax and sharex=True\n",
      " |          will alter all x axis labels for all axis in a figure!\n",
      " |      sharey : boolean, default False\n",
      " |          In case subplots=True, share y axis and set some y axis labels to\n",
      " |          invisible\n",
      " |      layout : tuple (optional)\n",
      " |          (rows, columns) for the layout of subplots\n",
      " |      figsize : a tuple (width, height) in inches\n",
      " |      use_index : boolean, default True\n",
      " |          Use index as ticks for x axis\n",
      " |      title : string or list\n",
      " |          Title to use for the plot. If a string is passed, print the string at\n",
      " |          the top of the figure. If a list is passed and `subplots` is True,\n",
      " |          print each item in the list above the corresponding subplot.\n",
      " |      grid : boolean, default None (matlab style default)\n",
      " |          Axis grid lines\n",
      " |      legend : False/True/'reverse'\n",
      " |          Place legend on axis subplots\n",
      " |      style : list or dict\n",
      " |          matplotlib line style per column\n",
      " |      logx : boolean, default False\n",
      " |          Use log scaling on x axis\n",
      " |      logy : boolean, default False\n",
      " |          Use log scaling on y axis\n",
      " |      loglog : boolean, default False\n",
      " |          Use log scaling on both x and y axes\n",
      " |      xticks : sequence\n",
      " |          Values to use for the xticks\n",
      " |      yticks : sequence\n",
      " |          Values to use for the yticks\n",
      " |      xlim : 2-tuple/list\n",
      " |      ylim : 2-tuple/list\n",
      " |      rot : int, default None\n",
      " |          Rotation for ticks (xticks for vertical, yticks for horizontal plots)\n",
      " |      fontsize : int, default None\n",
      " |          Font size for xticks and yticks\n",
      " |      colormap : str or matplotlib colormap object, default None\n",
      " |          Colormap to select colors from. If string, load colormap with that name\n",
      " |          from matplotlib.\n",
      " |      colorbar : boolean, optional\n",
      " |          If True, plot colorbar (only relevant for 'scatter' and 'hexbin' plots)\n",
      " |      position : float\n",
      " |          Specify relative alignments for bar plot layout.\n",
      " |          From 0 (left/bottom-end) to 1 (right/top-end). Default is 0.5 (center)\n",
      " |      table : boolean, Series or DataFrame, default False\n",
      " |          If True, draw a table using the data in the DataFrame and the data will\n",
      " |          be transposed to meet matplotlib's default layout.\n",
      " |          If a Series or DataFrame is passed, use passed data to draw a table.\n",
      " |      yerr : DataFrame, Series, array-like, dict and str\n",
      " |          See :ref:`Plotting with Error Bars <visualization.errorbars>` for\n",
      " |          detail.\n",
      " |      xerr : same types as yerr.\n",
      " |      stacked : boolean, default False in line and\n",
      " |          bar plots, and True in area plot. If True, create stacked plot.\n",
      " |      sort_columns : boolean, default False\n",
      " |          Sort column names to determine plot ordering\n",
      " |      secondary_y : boolean or sequence, default False\n",
      " |          Whether to plot on the secondary y-axis\n",
      " |          If a list/tuple, which columns to plot on secondary y-axis\n",
      " |      mark_right : boolean, default True\n",
      " |          When using a secondary_y axis, automatically mark the column\n",
      " |          labels with \"(right)\" in the legend\n",
      " |      `**kwds` : keywords\n",
      " |          Options to pass to matplotlib plotting method\n",
      " |      \n",
      " |      Returns\n",
      " |      -------\n",
      " |      axes : :class:`matplotlib.axes.Axes` or numpy.ndarray of them\n",
      " |      \n",
      " |      Notes\n",
      " |      -----\n",
      " |      \n",
      " |      - See matplotlib documentation online for more on this subject\n",
      " |      - If `kind` = 'bar' or 'barh', you can specify relative alignments\n",
      " |        for bar plot layout by `position` keyword.\n",
      " |        From 0 (left/bottom-end) to 1 (right/top-end). Default is 0.5 (center)\n",
      " |      - If `kind` = 'scatter' and the argument `c` is the name of a dataframe\n",
      " |        column, the values of that column are used to color each point.\n",
      " |      - If `kind` = 'hexbin', you can control the size of the bins with the\n",
      " |        `gridsize` argument. By default, a histogram of the counts around each\n",
      " |        `(x, y)` point is computed. You can specify alternative aggregations\n",
      " |        by passing values to the `C` and `reduce_C_function` arguments.\n",
      " |        `C` specifies the value at each `(x, y)` point and `reduce_C_function`\n",
      " |        is a function of one argument that reduces all the values in a bin to\n",
      " |        a single number (e.g. `mean`, `max`, `sum`, `std`).\n",
      " |  \n",
      " |  area(self, x=None, y=None, **kwds)\n",
      " |      Draw a stacked area plot.\n",
      " |      \n",
      " |      An area plot displays quantitative data visually.\n",
      " |      This function wraps the matplotlib area function.\n",
      " |      \n",
      " |      Parameters\n",
      " |      ----------\n",
      " |      x : label or position, optional\n",
      " |          Coordinates for the X axis. By default uses the index.\n",
      " |      y : label or position, optional\n",
      " |          Column to plot. By default uses all columns.\n",
      " |      stacked : bool, default True\n",
      " |          Area plots are stacked by default. Set to False to create a\n",
      " |          unstacked plot.\n",
      " |      **kwds : optional\n",
      " |          Additional keyword arguments are documented in\n",
      " |          :meth:`pandas.DataFrame.plot`.\n",
      " |      \n",
      " |      Returns\n",
      " |      -------\n",
      " |      matplotlib.axes.Axes or numpy.ndarray\n",
      " |          Area plot, or array of area plots if subplots is True\n",
      " |      \n",
      " |      See Also\n",
      " |      --------\n",
      " |      DataFrame.plot : Make plots of DataFrame using matplotlib / pylab.\n",
      " |      \n",
      " |      Examples\n",
      " |      --------\n",
      " |      Draw an area plot based on basic business metrics:\n",
      " |      \n",
      " |      .. plot::\n",
      " |          :context: close-figs\n",
      " |      \n",
      " |          >>> df = pd.DataFrame({\n",
      " |          ...     'sales': [3, 2, 3, 9, 10, 6],\n",
      " |          ...     'signups': [5, 5, 6, 12, 14, 13],\n",
      " |          ...     'visits': [20, 42, 28, 62, 81, 50],\n",
      " |          ... }, index=pd.date_range(start='2018/01/01', end='2018/07/01',\n",
      " |          ...                        freq='M'))\n",
      " |          >>> ax = df.plot.area()\n",
      " |      \n",
      " |      Area plots are stacked by default. To produce an unstacked plot,\n",
      " |      pass ``stacked=False``:\n",
      " |      \n",
      " |      .. plot::\n",
      " |          :context: close-figs\n",
      " |      \n",
      " |          >>> ax = df.plot.area(stacked=False)\n",
      " |      \n",
      " |      Draw an area plot for a single column:\n",
      " |      \n",
      " |      .. plot::\n",
      " |          :context: close-figs\n",
      " |      \n",
      " |          >>> ax = df.plot.area(y='sales')\n",
      " |      \n",
      " |      Draw with a different `x`:\n",
      " |      \n",
      " |      .. plot::\n",
      " |          :context: close-figs\n",
      " |      \n",
      " |          >>> df = pd.DataFrame({\n",
      " |          ...     'sales': [3, 2, 3],\n",
      " |          ...     'visits': [20, 42, 28],\n",
      " |          ...     'day': [1, 2, 3],\n",
      " |          ... })\n",
      " |          >>> ax = df.plot.area(x='day')\n",
      " |  \n",
      " |  bar(self, x=None, y=None, **kwds)\n",
      " |      Vertical bar plot.\n",
      " |      \n",
      " |      A bar plot is a plot that presents categorical data with\n",
      " |      rectangular bars with lengths proportional to the values that they\n",
      " |      represent. A bar plot shows comparisons among discrete categories. One\n",
      " |      axis of the plot shows the specific categories being compared, and the\n",
      " |      other axis represents a measured value.\n",
      " |      \n",
      " |      Parameters\n",
      " |      ----------\n",
      " |      x : label or position, optional\n",
      " |          Allows plotting of one column versus another. If not specified,\n",
      " |          the index of the DataFrame is used.\n",
      " |      y : label or position, optional\n",
      " |          Allows plotting of one column versus another. If not specified,\n",
      " |          all numerical columns are used.\n",
      " |      **kwds\n",
      " |          Additional keyword arguments are documented in\n",
      " |          :meth:`pandas.DataFrame.plot`.\n",
      " |      \n",
      " |      Returns\n",
      " |      -------\n",
      " |      axes : matplotlib.axes.Axes or np.ndarray of them\n",
      " |          An ndarray is returned with one :class:`matplotlib.axes.Axes`\n",
      " |          per column when ``subplots=True``.\n",
      " |      \n",
      " |      See Also\n",
      " |      --------\n",
      " |      pandas.DataFrame.plot.barh : Horizontal bar plot.\n",
      " |      pandas.DataFrame.plot : Make plots of a DataFrame.\n",
      " |      matplotlib.pyplot.bar : Make a bar plot with matplotlib.\n",
      " |      \n",
      " |      Examples\n",
      " |      --------\n",
      " |      Basic plot.\n",
      " |      \n",
      " |      .. plot::\n",
      " |          :context: close-figs\n",
      " |      \n",
      " |          >>> df = pd.DataFrame({'lab':['A', 'B', 'C'], 'val':[10, 30, 20]})\n",
      " |          >>> ax = df.plot.bar(x='lab', y='val', rot=0)\n",
      " |      \n",
      " |      Plot a whole dataframe to a bar plot. Each column is assigned a\n",
      " |      distinct color, and each row is nested in a group along the\n",
      " |      horizontal axis.\n",
      " |      \n",
      " |      .. plot::\n",
      " |          :context: close-figs\n",
      " |      \n",
      " |          >>> speed = [0.1, 17.5, 40, 48, 52, 69, 88]\n",
      " |          >>> lifespan = [2, 8, 70, 1.5, 25, 12, 28]\n",
      " |          >>> index = ['snail', 'pig', 'elephant',\n",
      " |          ...          'rabbit', 'giraffe', 'coyote', 'horse']\n",
      " |          >>> df = pd.DataFrame({'speed': speed,\n",
      " |          ...                    'lifespan': lifespan}, index=index)\n",
      " |          >>> ax = df.plot.bar(rot=0)\n",
      " |      \n",
      " |      Instead of nesting, the figure can be split by column with\n",
      " |      ``subplots=True``. In this case, a :class:`numpy.ndarray` of\n",
      " |      :class:`matplotlib.axes.Axes` are returned.\n",
      " |      \n",
      " |      .. plot::\n",
      " |          :context: close-figs\n",
      " |      \n",
      " |          >>> axes = df.plot.bar(rot=0, subplots=True)\n",
      " |          >>> axes[1].legend(loc=2)  # doctest: +SKIP\n",
      " |      \n",
      " |      Plot a single column.\n",
      " |      \n",
      " |      .. plot::\n",
      " |          :context: close-figs\n",
      " |      \n",
      " |          >>> ax = df.plot.bar(y='speed', rot=0)\n",
      " |      \n",
      " |      Plot only selected categories for the DataFrame.\n",
      " |      \n",
      " |      .. plot::\n",
      " |          :context: close-figs\n",
      " |      \n",
      " |          >>> ax = df.plot.bar(x='lifespan', rot=0)\n",
      " |  \n",
      " |  barh(self, x=None, y=None, **kwds)\n",
      " |      Make a horizontal bar plot.\n",
      " |      \n",
      " |      A horizontal bar plot is a plot that presents quantitative data with\n",
      " |      rectangular bars with lengths proportional to the values that they\n",
      " |      represent. A bar plot shows comparisons among discrete categories. One\n",
      " |      axis of the plot shows the specific categories being compared, and the\n",
      " |      other axis represents a measured value.\n",
      " |      \n",
      " |      Parameters\n",
      " |      ----------\n",
      " |      x : label or position, default DataFrame.index\n",
      " |          Column to be used for categories.\n",
      " |      y : label or position, default All numeric columns in dataframe\n",
      " |          Columns to be plotted from the DataFrame.\n",
      " |      **kwds\n",
      " |          Keyword arguments to pass on to :meth:`pandas.DataFrame.plot`.\n",
      " |      \n",
      " |      Returns\n",
      " |      -------\n",
      " |      axes : :class:`matplotlib.axes.Axes` or numpy.ndarray of them.\n",
      " |      \n",
      " |      See Also\n",
      " |      --------\n",
      " |      pandas.DataFrame.plot.bar: Vertical bar plot.\n",
      " |      pandas.DataFrame.plot : Make plots of DataFrame using matplotlib.\n",
      " |      matplotlib.axes.Axes.bar : Plot a vertical bar plot using matplotlib.\n",
      " |      \n",
      " |      Examples\n",
      " |      --------\n",
      " |      Basic example\n",
      " |      \n",
      " |      .. plot::\n",
      " |          :context: close-figs\n",
      " |      \n",
      " |          >>> df = pd.DataFrame({'lab':['A', 'B', 'C'], 'val':[10, 30, 20]})\n",
      " |          >>> ax = df.plot.barh(x='lab', y='val')\n",
      " |      \n",
      " |      Plot a whole DataFrame to a horizontal bar plot\n",
      " |      \n",
      " |      .. plot::\n",
      " |          :context: close-figs\n",
      " |      \n",
      " |          >>> speed = [0.1, 17.5, 40, 48, 52, 69, 88]\n",
      " |          >>> lifespan = [2, 8, 70, 1.5, 25, 12, 28]\n",
      " |          >>> index = ['snail', 'pig', 'elephant',\n",
      " |          ...          'rabbit', 'giraffe', 'coyote', 'horse']\n",
      " |          >>> df = pd.DataFrame({'speed': speed,\n",
      " |          ...                    'lifespan': lifespan}, index=index)\n",
      " |          >>> ax = df.plot.barh()\n",
      " |      \n",
      " |      Plot a column of the DataFrame to a horizontal bar plot\n",
      " |      \n",
      " |      .. plot::\n",
      " |          :context: close-figs\n",
      " |      \n",
      " |          >>> speed = [0.1, 17.5, 40, 48, 52, 69, 88]\n",
      " |          >>> lifespan = [2, 8, 70, 1.5, 25, 12, 28]\n",
      " |          >>> index = ['snail', 'pig', 'elephant',\n",
      " |          ...          'rabbit', 'giraffe', 'coyote', 'horse']\n",
      " |          >>> df = pd.DataFrame({'speed': speed,\n",
      " |          ...                    'lifespan': lifespan}, index=index)\n",
      " |          >>> ax = df.plot.barh(y='speed')\n",
      " |      \n",
      " |      Plot DataFrame versus the desired column\n",
      " |      \n",
      " |      .. plot::\n",
      " |          :context: close-figs\n",
      " |      \n",
      " |          >>> speed = [0.1, 17.5, 40, 48, 52, 69, 88]\n",
      " |          >>> lifespan = [2, 8, 70, 1.5, 25, 12, 28]\n",
      " |          >>> index = ['snail', 'pig', 'elephant',\n",
      " |          ...          'rabbit', 'giraffe', 'coyote', 'horse']\n",
      " |          >>> df = pd.DataFrame({'speed': speed,\n",
      " |          ...                    'lifespan': lifespan}, index=index)\n",
      " |          >>> ax = df.plot.barh(x='lifespan')\n",
      " |  \n",
      " |  box(self, by=None, **kwds)\n",
      " |      Make a box plot of the DataFrame columns.\n",
      " |      \n",
      " |      A box plot is a method for graphically depicting groups of numerical\n",
      " |      data through their quartiles.\n",
      " |      The box extends from the Q1 to Q3 quartile values of the data,\n",
      " |      with a line at the median (Q2). The whiskers extend from the edges\n",
      " |      of box to show the range of the data. The position of the whiskers\n",
      " |      is set by default to 1.5*IQR (IQR = Q3 - Q1) from the edges of the\n",
      " |      box. Outlier points are those past the end of the whiskers.\n",
      " |      \n",
      " |      For further details see Wikipedia's\n",
      " |      entry for `boxplot <https://en.wikipedia.org/wiki/Box_plot>`__.\n",
      " |      \n",
      " |      A consideration when using this chart is that the box and the whiskers\n",
      " |      can overlap, which is very common when plotting small sets of data.\n",
      " |      \n",
      " |      Parameters\n",
      " |      ----------\n",
      " |      by : string or sequence\n",
      " |          Column in the DataFrame to group by.\n",
      " |      **kwds : optional\n",
      " |          Additional keywords are documented in\n",
      " |          :meth:`pandas.DataFrame.plot`.\n",
      " |      \n",
      " |      Returns\n",
      " |      -------\n",
      " |      axes : :class:`matplotlib.axes.Axes` or numpy.ndarray of them\n",
      " |      \n",
      " |      See Also\n",
      " |      --------\n",
      " |      pandas.DataFrame.boxplot: Another method to draw a box plot.\n",
      " |      pandas.Series.plot.box: Draw a box plot from a Series object.\n",
      " |      matplotlib.pyplot.boxplot: Draw a box plot in matplotlib.\n",
      " |      \n",
      " |      Examples\n",
      " |      --------\n",
      " |      Draw a box plot from a DataFrame with four columns of randomly\n",
      " |      generated data.\n",
      " |      \n",
      " |      .. plot::\n",
      " |          :context: close-figs\n",
      " |      \n",
      " |          >>> data = np.random.randn(25, 4)\n",
      " |          >>> df = pd.DataFrame(data, columns=list('ABCD'))\n",
      " |          >>> ax = df.plot.box()\n",
      " |  \n",
      " |  density = kde(self, bw_method=None, ind=None, **kwds)\n",
      " |  \n",
      " |  hexbin(self, x, y, C=None, reduce_C_function=None, gridsize=None, **kwds)\n",
      " |      Generate a hexagonal binning plot.\n",
      " |      \n",
      " |      Generate a hexagonal binning plot of `x` versus `y`. If `C` is `None`\n",
      " |      (the default), this is a histogram of the number of occurrences\n",
      " |      of the observations at ``(x[i], y[i])``.\n",
      " |      \n",
      " |      If `C` is specified, specifies values at given coordinates\n",
      " |      ``(x[i], y[i])``. These values are accumulated for each hexagonal\n",
      " |      bin and then reduced according to `reduce_C_function`,\n",
      " |      having as default the NumPy's mean function (:meth:`numpy.mean`).\n",
      " |      (If `C` is specified, it must also be a 1-D sequence\n",
      " |      of the same length as `x` and `y`, or a column label.)\n",
      " |      \n",
      " |      Parameters\n",
      " |      ----------\n",
      " |      x : int or str\n",
      " |          The column label or position for x points.\n",
      " |      y : int or str\n",
      " |          The column label or position for y points.\n",
      " |      C : int or str, optional\n",
      " |          The column label or position for the value of `(x, y)` point.\n",
      " |      reduce_C_function : callable, default `np.mean`\n",
      " |          Function of one argument that reduces all the values in a bin to\n",
      " |          a single number (e.g. `np.mean`, `np.max`, `np.sum`, `np.std`).\n",
      " |      gridsize : int or tuple of (int, int), default 100\n",
      " |          The number of hexagons in the x-direction.\n",
      " |          The corresponding number of hexagons in the y-direction is\n",
      " |          chosen in a way that the hexagons are approximately regular.\n",
      " |          Alternatively, gridsize can be a tuple with two elements\n",
      " |          specifying the number of hexagons in the x-direction and the\n",
      " |          y-direction.\n",
      " |      **kwds\n",
      " |          Additional keyword arguments are documented in\n",
      " |          :meth:`pandas.DataFrame.plot`.\n",
      " |      \n",
      " |      Returns\n",
      " |      -------\n",
      " |      matplotlib.AxesSubplot\n",
      " |          The matplotlib ``Axes`` on which the hexbin is plotted.\n",
      " |      \n",
      " |      See Also\n",
      " |      --------\n",
      " |      DataFrame.plot : Make plots of a DataFrame.\n",
      " |      matplotlib.pyplot.hexbin : Hexagonal binning plot using matplotlib,\n",
      " |          the matplotlib function that is used under the hood.\n",
      " |      \n",
      " |      Examples\n",
      " |      --------\n",
      " |      The following examples are generated with random data from\n",
      " |      a normal distribution.\n",
      " |      \n",
      " |      .. plot::\n",
      " |          :context: close-figs\n",
      " |      \n",
      " |          >>> n = 10000\n",
      " |          >>> df = pd.DataFrame({'x': np.random.randn(n),\n",
      " |          ...                    'y': np.random.randn(n)})\n",
      " |          >>> ax = df.plot.hexbin(x='x', y='y', gridsize=20)\n",
      " |      \n",
      " |      The next example uses `C` and `np.sum` as `reduce_C_function`.\n",
      " |      Note that `'observations'` values ranges from 1 to 5 but the result\n",
      " |      plot shows values up to more than 25. This is because of the\n",
      " |      `reduce_C_function`.\n",
      " |      \n",
      " |      .. plot::\n",
      " |          :context: close-figs\n",
      " |      \n",
      " |          >>> n = 500\n",
      " |          >>> df = pd.DataFrame({\n",
      " |          ...     'coord_x': np.random.uniform(-3, 3, size=n),\n",
      " |          ...     'coord_y': np.random.uniform(30, 50, size=n),\n",
      " |          ...     'observations': np.random.randint(1,5, size=n)\n",
      " |          ...     })\n",
      " |          >>> ax = df.plot.hexbin(x='coord_x',\n",
      " |          ...                     y='coord_y',\n",
      " |          ...                     C='observations',\n",
      " |          ...                     reduce_C_function=np.sum,\n",
      " |          ...                     gridsize=10,\n",
      " |          ...                     cmap=\"viridis\")\n",
      " |  \n",
      " |  hist(self, by=None, bins=10, **kwds)\n",
      " |      Draw one histogram of the DataFrame's columns.\n",
      " |      \n",
      " |      A histogram is a representation of the distribution of data.\n",
      " |      This function groups the values of all given Series in the DataFrame\n",
      " |      into bins and draws all bins in one :class:`matplotlib.axes.Axes`.\n",
      " |      This is useful when the DataFrame's Series are in a similar scale.\n",
      " |      \n",
      " |      Parameters\n",
      " |      ----------\n",
      " |      by : str or sequence, optional\n",
      " |          Column in the DataFrame to group by.\n",
      " |      bins : int, default 10\n",
      " |          Number of histogram bins to be used.\n",
      " |      **kwds\n",
      " |          Additional keyword arguments are documented in\n",
      " |          :meth:`pandas.DataFrame.plot`.\n",
      " |      \n",
      " |      Returns\n",
      " |      -------\n",
      " |      axes : matplotlib.AxesSubplot histogram.\n",
      " |      \n",
      " |      See Also\n",
      " |      --------\n",
      " |      DataFrame.hist : Draw histograms per DataFrame's Series.\n",
      " |      Series.hist : Draw a histogram with Series' data.\n",
      " |      \n",
      " |      Examples\n",
      " |      --------\n",
      " |      When we draw a dice 6000 times, we expect to get each value around 1000\n",
      " |      times. But when we draw two dices and sum the result, the distribution\n",
      " |      is going to be quite different. A histogram illustrates those\n",
      " |      distributions.\n",
      " |      \n",
      " |      .. plot::\n",
      " |          :context: close-figs\n",
      " |      \n",
      " |          >>> df = pd.DataFrame(\n",
      " |          ...     np.random.randint(1, 7, 6000),\n",
      " |          ...     columns = ['one'])\n",
      " |          >>> df['two'] = df['one'] + np.random.randint(1, 7, 6000)\n",
      " |          >>> ax = df.plot.hist(bins=12, alpha=0.5)\n",
      " |  \n",
      " |  kde(self, bw_method=None, ind=None, **kwds)\n",
      " |      Generate Kernel Density Estimate plot using Gaussian kernels.\n",
      " |      \n",
      " |      In statistics, `kernel density estimation`_ (KDE) is a non-parametric\n",
      " |      way to estimate the probability density function (PDF) of a random\n",
      " |      variable. This function uses Gaussian kernels and includes automatic\n",
      " |      bandwidth determination.\n",
      " |      \n",
      " |      .. _kernel density estimation:\n",
      " |          https://en.wikipedia.org/wiki/Kernel_density_estimation\n",
      " |      \n",
      " |      Parameters\n",
      " |      ----------\n",
      " |      bw_method : str, scalar or callable, optional\n",
      " |          The method used to calculate the estimator bandwidth. This can be\n",
      " |          'scott', 'silverman', a scalar constant or a callable.\n",
      " |          If None (default), 'scott' is used.\n",
      " |          See :class:`scipy.stats.gaussian_kde` for more information.\n",
      " |      ind : NumPy array or integer, optional\n",
      " |          Evaluation points for the estimated PDF. If None (default),\n",
      " |          1000 equally spaced points are used. If `ind` is a NumPy array, the\n",
      " |          KDE is evaluated at the points passed. If `ind` is an integer,\n",
      " |          `ind` number of equally spaced points are used.\n",
      " |      **kwds : optional\n",
      " |          Additional keyword arguments are documented in\n",
      " |          :meth:`pandas.DataFrame.plot`.\n",
      " |      \n",
      " |      Returns\n",
      " |      -------\n",
      " |      axes : matplotlib.axes.Axes or numpy.ndarray of them\n",
      " |      \n",
      " |      See Also\n",
      " |      --------\n",
      " |      scipy.stats.gaussian_kde : Representation of a kernel-density\n",
      " |          estimate using Gaussian kernels. This is the function used\n",
      " |          internally to estimate the PDF.\n",
      " |      Series.plot.kde : Generate a KDE plot for a\n",
      " |          Series.\n",
      " |      \n",
      " |      Examples\n",
      " |      --------\n",
      " |      Given several Series of points randomly sampled from unknown\n",
      " |      distributions, estimate their PDFs using KDE with automatic\n",
      " |      bandwidth determination and plot the results, evaluating them at\n",
      " |      1000 equally spaced points (default):\n",
      " |      \n",
      " |      .. plot::\n",
      " |          :context: close-figs\n",
      " |      \n",
      " |          >>> df = pd.DataFrame({\n",
      " |          ...     'x': [1, 2, 2.5, 3, 3.5, 4, 5],\n",
      " |          ...     'y': [4, 4, 4.5, 5, 5.5, 6, 6],\n",
      " |          ... })\n",
      " |          >>> ax = df.plot.kde()\n",
      " |      \n",
      " |      A scalar bandwidth can be specified. Using a small bandwidth value can\n",
      " |      lead to over-fitting, while using a large bandwidth value may result\n",
      " |      in under-fitting:\n",
      " |      \n",
      " |      .. plot::\n",
      " |          :context: close-figs\n",
      " |      \n",
      " |          >>> ax = df.plot.kde(bw_method=0.3)\n",
      " |      \n",
      " |      .. plot::\n",
      " |          :context: close-figs\n",
      " |      \n",
      " |          >>> ax = df.plot.kde(bw_method=3)\n",
      " |      \n",
      " |      Finally, the `ind` parameter determines the evaluation points for the\n",
      " |      plot of the estimated PDF:\n",
      " |      \n",
      " |      .. plot::\n",
      " |          :context: close-figs\n",
      " |      \n",
      " |          >>> ax = df.plot.kde(ind=[1, 2, 3, 4, 5, 6])\n",
      " |  \n",
      " |  line(self, x=None, y=None, **kwds)\n",
      " |      Plot DataFrame columns as lines.\n",
      " |      \n",
      " |      This function is useful to plot lines using DataFrame's values\n",
      " |      as coordinates.\n",
      " |      \n",
      " |      Parameters\n",
      " |      ----------\n",
      " |      x : int or str, optional\n",
      " |          Columns to use for the horizontal axis.\n",
      " |          Either the location or the label of the columns to be used.\n",
      " |          By default, it will use the DataFrame indices.\n",
      " |      y : int, str, or list of them, optional\n",
      " |          The values to be plotted.\n",
      " |          Either the location or the label of the columns to be used.\n",
      " |          By default, it will use the remaining DataFrame numeric columns.\n",
      " |      **kwds\n",
      " |          Keyword arguments to pass on to :meth:`pandas.DataFrame.plot`.\n",
      " |      \n",
      " |      Returns\n",
      " |      -------\n",
      " |      axes : :class:`matplotlib.axes.Axes` or :class:`numpy.ndarray`\n",
      " |          Returns an ndarray when ``subplots=True``.\n",
      " |      \n",
      " |      See Also\n",
      " |      --------\n",
      " |      matplotlib.pyplot.plot : Plot y versus x as lines and/or markers.\n",
      " |      \n",
      " |      Examples\n",
      " |      --------\n",
      " |      \n",
      " |      .. plot::\n",
      " |          :context: close-figs\n",
      " |      \n",
      " |          The following example shows the populations for some animals\n",
      " |          over the years.\n",
      " |      \n",
      " |          >>> df = pd.DataFrame({\n",
      " |          ...    'pig': [20, 18, 489, 675, 1776],\n",
      " |          ...    'horse': [4, 25, 281, 600, 1900]\n",
      " |          ...    }, index=[1990, 1997, 2003, 2009, 2014])\n",
      " |          >>> lines = df.plot.line()\n",
      " |      \n",
      " |      .. plot::\n",
      " |         :context: close-figs\n",
      " |      \n",
      " |         An example with subplots, so an array of axes is returned.\n",
      " |      \n",
      " |         >>> axes = df.plot.line(subplots=True)\n",
      " |         >>> type(axes)\n",
      " |         <class 'numpy.ndarray'>\n",
      " |      \n",
      " |      .. plot::\n",
      " |          :context: close-figs\n",
      " |      \n",
      " |          The following example shows the relationship between both\n",
      " |          populations.\n",
      " |      \n",
      " |          >>> lines = df.plot.line(x='pig', y='horse')\n",
      " |  \n",
      " |  pie(self, y=None, **kwds)\n",
      " |      Generate a pie plot.\n",
      " |      \n",
      " |      A pie plot is a proportional representation of the numerical data in a\n",
      " |      column. This function wraps :meth:`matplotlib.pyplot.pie` for the\n",
      " |      specified column. If no column reference is passed and\n",
      " |      ``subplots=True`` a pie plot is drawn for each numerical column\n",
      " |      independently.\n",
      " |      \n",
      " |      Parameters\n",
      " |      ----------\n",
      " |      y : int or label, optional\n",
      " |          Label or position of the column to plot.\n",
      " |          If not provided, ``subplots=True`` argument must be passed.\n",
      " |      **kwds\n",
      " |          Keyword arguments to pass on to :meth:`pandas.DataFrame.plot`.\n",
      " |      \n",
      " |      Returns\n",
      " |      -------\n",
      " |      axes : matplotlib.axes.Axes or np.ndarray of them.\n",
      " |          A NumPy array is returned when `subplots` is True.\n",
      " |      \n",
      " |      See Also\n",
      " |      --------\n",
      " |      Series.plot.pie : Generate a pie plot for a Series.\n",
      " |      DataFrame.plot : Make plots of a DataFrame.\n",
      " |      \n",
      " |      Examples\n",
      " |      --------\n",
      " |      In the example below we have a DataFrame with the information about\n",
      " |      planet's mass and radius. We pass the the 'mass' column to the\n",
      " |      pie function to get a pie plot.\n",
      " |      \n",
      " |      .. plot::\n",
      " |          :context: close-figs\n",
      " |      \n",
      " |          >>> df = pd.DataFrame({'mass': [0.330, 4.87 , 5.97],\n",
      " |          ...                    'radius': [2439.7, 6051.8, 6378.1]},\n",
      " |          ...                   index=['Mercury', 'Venus', 'Earth'])\n",
      " |          >>> plot = df.plot.pie(y='mass', figsize=(5, 5))\n",
      " |      \n",
      " |      .. plot::\n",
      " |          :context: close-figs\n",
      " |      \n",
      " |          >>> plot = df.plot.pie(subplots=True, figsize=(6, 3))\n",
      " |  \n",
      " |  scatter(self, x, y, s=None, c=None, **kwds)\n",
      " |      Create a scatter plot with varying marker point size and color.\n",
      " |      \n",
      " |      The coordinates of each point are defined by two dataframe columns and\n",
      " |      filled circles are used to represent each point. This kind of plot is\n",
      " |      useful to see complex correlations between two variables. Points could\n",
      " |      be for instance natural 2D coordinates like longitude and latitude in\n",
      " |      a map or, in general, any pair of metrics that can be plotted against\n",
      " |      each other.\n",
      " |      \n",
      " |      Parameters\n",
      " |      ----------\n",
      " |      x : int or str\n",
      " |          The column name or column position to be used as horizontal\n",
      " |          coordinates for each point.\n",
      " |      y : int or str\n",
      " |          The column name or column position to be used as vertical\n",
      " |          coordinates for each point.\n",
      " |      s : scalar or array_like, optional\n",
      " |          The size of each point. Possible values are:\n",
      " |      \n",
      " |          - A single scalar so all points have the same size.\n",
      " |      \n",
      " |          - A sequence of scalars, which will be used for each point's size\n",
      " |            recursively. For instance, when passing [2,14] all points size\n",
      " |            will be either 2 or 14, alternatively.\n",
      " |      \n",
      " |      c : str, int or array_like, optional\n",
      " |          The color of each point. Possible values are:\n",
      " |      \n",
      " |          - A single color string referred to by name, RGB or RGBA code,\n",
      " |            for instance 'red' or '#a98d19'.\n",
      " |      \n",
      " |          - A sequence of color strings referred to by name, RGB or RGBA\n",
      " |            code, which will be used for each point's color recursively. For\n",
      " |            instance ['green','yellow'] all points will be filled in green or\n",
      " |            yellow, alternatively.\n",
      " |      \n",
      " |          - A column name or position whose values will be used to color the\n",
      " |            marker points according to a colormap.\n",
      " |      \n",
      " |      **kwds\n",
      " |          Keyword arguments to pass on to :meth:`pandas.DataFrame.plot`.\n",
      " |      \n",
      " |      Returns\n",
      " |      -------\n",
      " |      axes : :class:`matplotlib.axes.Axes` or numpy.ndarray of them\n",
      " |      \n",
      " |      See Also\n",
      " |      --------\n",
      " |      matplotlib.pyplot.scatter : Scatter plot using multiple input data\n",
      " |          formats.\n",
      " |      \n",
      " |      Examples\n",
      " |      --------\n",
      " |      Let's see how to draw a scatter plot using coordinates from the values\n",
      " |      in a DataFrame's columns.\n",
      " |      \n",
      " |      .. plot::\n",
      " |          :context: close-figs\n",
      " |      \n",
      " |          >>> df = pd.DataFrame([[5.1, 3.5, 0], [4.9, 3.0, 0], [7.0, 3.2, 1],\n",
      " |          ...                    [6.4, 3.2, 1], [5.9, 3.0, 2]],\n",
      " |          ...                   columns=['length', 'width', 'species'])\n",
      " |          >>> ax1 = df.plot.scatter(x='length',\n",
      " |          ...                       y='width',\n",
      " |          ...                       c='DarkBlue')\n",
      " |      \n",
      " |      And now with the color determined by a column as well.\n",
      " |      \n",
      " |      .. plot::\n",
      " |          :context: close-figs\n",
      " |      \n",
      " |          >>> ax2 = df.plot.scatter(x='length',\n",
      " |          ...                       y='width',\n",
      " |          ...                       c='species',\n",
      " |          ...                       colormap='viridis')\n",
      " |  \n",
      " |  ----------------------------------------------------------------------\n",
      " |  Methods inherited from BasePlotMethods:\n",
      " |  \n",
      " |  __init__(self, data)\n",
      " |      Initialize self.  See help(type(self)) for accurate signature.\n",
      " |  \n",
      " |  ----------------------------------------------------------------------\n",
      " |  Methods inherited from pandas.core.base.PandasObject:\n",
      " |  \n",
      " |  __sizeof__(self)\n",
      " |      Generates the total memory usage for an object that returns\n",
      " |      either a value or Series of values\n",
      " |  \n",
      " |  __unicode__(self)\n",
      " |      Return a string representation for a particular object.\n",
      " |      \n",
      " |      Invoked by unicode(obj) in py2 only. Yields a Unicode String in both\n",
      " |      py2/py3.\n",
      " |  \n",
      " |  ----------------------------------------------------------------------\n",
      " |  Methods inherited from pandas.core.base.StringMixin:\n",
      " |  \n",
      " |  __bytes__(self)\n",
      " |      Return a string representation for a particular object.\n",
      " |      \n",
      " |      Invoked by bytes(obj) in py3 only.\n",
      " |      Yields a bytestring in both py2/py3.\n",
      " |  \n",
      " |  __repr__(self)\n",
      " |      Return a string representation for a particular object.\n",
      " |      \n",
      " |      Yields Bytestring in Py2, Unicode String in py3.\n",
      " |  \n",
      " |  __str__(self)\n",
      " |      Return a string representation for a particular Object\n",
      " |      \n",
      " |      Invoked by str(df) in both py2/py3.\n",
      " |      Yields Bytestring in Py2, Unicode String in py3.\n",
      " |  \n",
      " |  ----------------------------------------------------------------------\n",
      " |  Data descriptors inherited from pandas.core.base.StringMixin:\n",
      " |  \n",
      " |  __dict__\n",
      " |      dictionary for instance variables (if defined)\n",
      " |  \n",
      " |  __weakref__\n",
      " |      list of weak references to the object (if defined)\n",
      " |  \n",
      " |  ----------------------------------------------------------------------\n",
      " |  Methods inherited from pandas.core.accessor.DirNamesMixin:\n",
      " |  \n",
      " |  __dir__(self)\n",
      " |      Provide method name lookup and completion\n",
      " |      Only provide 'public' methods\n",
      "\n"
     ]
    }
   ],
   "source": [
    "help(pd.DataFrame.plot)"
   ]
  },
  {
   "cell_type": "markdown",
   "metadata": {},
   "source": [
    "So this says that the default plot is a line plot. That doesn't look like a line plot up there...but what if we just specified it as a line plot?"
   ]
  },
  {
   "cell_type": "code",
   "execution_count": 41,
   "metadata": {},
   "outputs": [
    {
     "data": {
      "image/png": "[encoded data removed]",
      "text/plain": [
       "<Figure size 432x288 with 1 Axes>"
      ]
     },
     "metadata": {
      "needs_background": "light"
     },
     "output_type": "display_data"
    }
   ],
   "source": [
    "inv_prcp_df.plot(kind='line', rot=90);"
   ]
  },
  {
   "cell_type": "markdown",
   "metadata": {},
   "source": [
    "Wuh...whhhhhaaaaaattttttttt? A line plot gives exactly what we originally had!!! But this is doesn't look like a line plot! It looks like a bar plot. What on earth is going on here?"
   ]
  },
  {
   "cell_type": "code",
   "execution_count": 42,
   "metadata": {},
   "outputs": [
    {
     "data": {
      "image/png": "[encoded data removed]",
      "text/plain": [
       "<Figure size 432x288 with 1 Axes>"
      ]
     },
     "metadata": {
      "needs_background": "light"
     },
     "output_type": "display_data"
    }
   ],
   "source": [
    "grp_data = inv_prcp_df.reset_index().groupby(\"date\").max()\n",
    "grp_data.plot(rot=90);"
   ]
  },
  {
   "cell_type": "markdown",
   "metadata": {},
   "source": [
    "So, uh, it turns out that the original plot was ALWAYS a line plot from the beginning. When you do a line plot on a dataset that has duplicate entries in the x-axis, the line plot just takes the maximum value for the x-axis values. In this case, the max precipitation value of the date. The initial plot seems to have filled in the bottom of the plot a little more (probably something to do with my grouping of the data here) so it looked like a bar plot. This is opposed to the actual bar plot, which plotted every single separate value as its own bar without aggregation but was cut off due to space (and explains why it still has a default max of 7 above).\n",
    "\n",
    "If we do the initial plot again but increase the figsize values:"
   ]
  },
  {
   "cell_type": "code",
   "execution_count": 43,
   "metadata": {},
   "outputs": [
    {
     "data": {
      "image/png": "[encoded data removed]",
      "text/plain": [
       "<Figure size 1080x360 with 1 Axes>"
      ]
     },
     "metadata": {
      "needs_background": "light"
     },
     "output_type": "display_data"
    }
   ],
   "source": [
    "inv_prcp_df.plot(kind='line', rot=90, figsize=(15,5));"
   ]
  },
  {
   "cell_type": "markdown",
   "metadata": {},
   "source": [
    "You start seeing more spaces to better see it as a line plot. Weird!\n",
    "\n",
    "From what I can conclude about this little side analysis: this was a terrible way to plot this dataset. There were duplicate values because the station was not included, which caused the data to aggregate in an unintended way, and the resulting plot was so bunched up that it didn't look like the type of plot it was supposed to look like and caused confusion. A better plot might be to use the different stations and plot their precipitation values over time in separate lines on the same chart."
   ]
  },
  {
   "cell_type": "code",
   "execution_count": null,
   "metadata": {},
   "outputs": [],
   "source": []
  }
 ],
 "metadata": {
  "kernel_info": {
   "name": "python3"
  },
  "kernelspec": {
   "display_name": "Python 3",
   "language": "python",
   "name": "python3"
  },
  "language_info": {
   "codemirror_mode": {
    "name": "ipython",
    "version": 3
   },
   "file_extension": ".py",
   "mimetype": "text/x-python",
   "name": "python",
   "nbconvert_exporter": "python",
   "pygments_lexer": "ipython3",
   "version": "3.6.8"
  },
  "nteract": {
   "version": "0.12.3"
  },
  "varInspector": {
   "cols": {
    "lenName": 16,
    "lenType": 16,
    "lenVar": 40
   },
   "kernels_config": {
    "python": {
     "delete_cmd_postfix": "",
     "delete_cmd_prefix": "del ",
     "library": "var_list.py",
     "varRefreshCmd": "print(var_dic_list())"
    },
    "r": {
     "delete_cmd_postfix": ") ",
     "delete_cmd_prefix": "rm(",
     "library": "var_list.r",
     "varRefreshCmd": "cat(var_dic_list()) "
    }
   },
   "types_to_exclude": [
    "module",
    "function",
    "builtin_function_or_method",
    "instance",
    "_Feature"
   ],
   "window_display": false
  }
 },
 "nbformat": 4,
 "nbformat_minor": 2
}
